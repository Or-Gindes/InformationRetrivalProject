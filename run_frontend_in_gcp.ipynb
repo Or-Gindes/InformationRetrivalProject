{
 "cells": [
  {
   "cell_type": "code",
   "execution_count": 1,
   "metadata": {},
   "outputs": [
    {
     "name": "stdout",
     "output_type": "stream",
     "text": [
      "NAME          PLATFORM  WORKER_COUNT  PREEMPTIBLE_WORKER_COUNT  STATUS   ZONE           SCHEDULED_DELETE\r\n",
      "cluster-d6cc  GCE       2                                       RUNNING  us-central1-f\r\n"
     ]
    }
   ],
   "source": [
    "!gcloud dataproc clusters list --region us-central1"
   ]
  },
  {
   "cell_type": "code",
   "execution_count": 2,
   "metadata": {
    "colab": {
     "base_uri": "https://localhost:8080/"
    },
    "executionInfo": {
     "elapsed": 1459,
     "status": "ok",
     "timestamp": 1641285894378,
     "user": {
      "displayName": "Sise.ir Sise.ir",
      "photoUrl": "https://lh3.googleusercontent.com/a/default-user=s64",
      "userId": "17225177656144426835"
     },
     "user_tz": -120
    },
    "id": "bCPDHP7zTQJZ",
    "outputId": "d704e7ab-281a-442a-82f9-2398330f4bb2"
   },
   "outputs": [
    {
     "name": "stderr",
     "output_type": "stream",
     "text": [
      "[nltk_data] Downloading package stopwords to /root/nltk_data...\n",
      "[nltk_data]   Package stopwords is already up-to-date!\n"
     ]
    },
    {
     "data": {
      "text/plain": [
       "True"
      ]
     },
     "execution_count": 2,
     "metadata": {},
     "output_type": "execute_result"
    }
   ],
   "source": [
    "# download nltk stopwords\n",
    "import sys\n",
    "import nltk\n",
    "nltk.download('stopwords')"
   ]
  },
  {
   "cell_type": "code",
   "execution_count": 3,
   "metadata": {
    "colab": {
     "base_uri": "https://localhost:8080/"
    },
    "executionInfo": {
     "elapsed": 11134,
     "status": "ok",
     "timestamp": 1641285910500,
     "user": {
      "displayName": "Sise.ir Sise.ir",
      "photoUrl": "https://lh3.googleusercontent.com/a/default-user=s64",
      "userId": "17225177656144426835"
     },
     "user_tz": -120
    },
    "id": "lAt6KT8xOgHH",
    "outputId": "d7ae1841-f7f2-4d05-d6b3-ae552547d708"
   },
   "outputs": [
    {
     "name": "stdout",
     "output_type": "stream",
     "text": [
      "\u001b[33mWARNING: Running pip as the 'root' user can result in broken permissions and conflicting behaviour with the system package manager. It is recommended to use a virtual environment instead: https://pip.pypa.io/warnings/venv\u001b[0m\u001b[33m\r\n",
      "\u001b[0m"
     ]
    }
   ],
   "source": [
    "# Install a particular version of `google-cloud-storage` because (oddly enough) \n",
    "# the  version on Colab and GCP is old. A dependency error below is okay.\n",
    "!pip install -q google-cloud-storage==1.43.0\n",
    "# !pip install numpy==1.23.5\n",
    "# !pip install gensim"
   ]
  },
  {
   "cell_type": "code",
   "execution_count": 4,
   "metadata": {
    "executionInfo": {
     "elapsed": 18614,
     "status": "ok",
     "timestamp": 1641285942762,
     "user": {
      "displayName": "Sise.ir Sise.ir",
      "photoUrl": "https://lh3.googleusercontent.com/a/default-user=s64",
      "userId": "17225177656144426835"
     },
     "user_tz": -120
    },
    "id": "-oKFly5jFLFn"
   },
   "outputs": [],
   "source": [
    "# authenticate below for Google Storage access as needed\n",
    "# from google.colab import auth\n",
    "# auth.authenticate_user()"
   ]
  },
  {
   "cell_type": "code",
   "execution_count": 5,
   "metadata": {
    "colab": {
     "base_uri": "https://localhost:8080/"
    },
    "executionInfo": {
     "elapsed": 1548,
     "status": "ok",
     "timestamp": 1641285955535,
     "user": {
      "displayName": "Sise.ir Sise.ir",
      "photoUrl": "https://lh3.googleusercontent.com/a/default-user=s64",
      "userId": "17225177656144426835"
     },
     "user_tz": -120
    },
    "id": "FrBdFNYgiyab",
    "outputId": "3e06da80-6e48-48c7-f7d0-66feaf371e16"
   },
   "outputs": [
    {
     "name": "stdout",
     "output_type": "stream",
     "text": [
      "WARNING: timestamping does nothing in combination with -O. See the manual\n",
      "for details.\n",
      "\n",
      "--2023-01-10 23:12:02--  https://bin.equinox.io/c/4VmDzA7iaHb/ngrok-stable-linux-amd64.zip\n",
      "Resolving bin.equinox.io (bin.equinox.io)... 54.161.241.46, 52.202.168.65, 18.205.222.128, ...\n",
      "Connecting to bin.equinox.io (bin.equinox.io)|54.161.241.46|:443... connected.\n",
      "HTTP request sent, awaiting response... 200 OK\n",
      "Length: 13832437 (13M) [application/octet-stream]\n",
      "Saving to: ‘ngrok-stable-linux-amd64.zip’\n",
      "\n",
      "ngrok-stable-linux- 100%[===================>]  13.19M  5.94MB/s    in 2.2s    \n",
      "\n",
      "2023-01-10 23:12:05 (5.94 MB/s) - ‘ngrok-stable-linux-amd64.zip’ saved [13832437/13832437]\n",
      "\n",
      "Archive:  ngrok-stable-linux-amd64.zip\n"
     ]
    }
   ],
   "source": [
    "# install ngrok to emulate public IP / address\n",
    "!wget -N https://bin.equinox.io/c/4VmDzA7iaHb/ngrok-stable-linux-amd64.zip -O ngrok-stable-linux-amd64.zip\n",
    "!unzip -u ngrok-stable-linux-amd64.zip"
   ]
  },
  {
   "cell_type": "code",
   "execution_count": 6,
   "metadata": {
    "colab": {
     "base_uri": "https://localhost:8080/"
    },
    "executionInfo": {
     "elapsed": 298,
     "status": "ok",
     "timestamp": 1641286006894,
     "user": {
      "displayName": "Sise.ir Sise.ir",
      "photoUrl": "https://lh3.googleusercontent.com/a/default-user=s64",
      "userId": "17225177656144426835"
     },
     "user_tz": -120
    },
    "id": "xA-_dKEZbsXW",
    "outputId": "adbcf9ff-78d0-46e7-df05-2a15452355e0"
   },
   "outputs": [
    {
     "name": "stdout",
     "output_type": "stream",
     "text": [
      "Authtoken saved to configuration file: /root/.ngrok2/ngrok.yml\r\n"
     ]
    }
   ],
   "source": [
    "# TODO: sign up for an ngrok account\n",
    "# then put your ngrok token below, uncomment, and execute\n",
    "!./ngrok authtoken 2JzlATy7bZp2cabWT6rhFZkJ3Je_6FWiS7J1SYjPRRTxGxHk4"
   ]
  },
  {
   "cell_type": "code",
   "execution_count": 7,
   "metadata": {
    "colab": {
     "base_uri": "https://localhost:8080/"
    },
    "executionInfo": {
     "elapsed": 6648,
     "status": "ok",
     "timestamp": 1641286030328,
     "user": {
      "displayName": "Sise.ir Sise.ir",
      "photoUrl": "https://lh3.googleusercontent.com/a/default-user=s64",
      "userId": "17225177656144426835"
     },
     "user_tz": -120
    },
    "id": "nXn5PlyGORQr",
    "outputId": "c823bfa1-f532-408f-be82-66cc63c64383"
   },
   "outputs": [
    {
     "name": "stdout",
     "output_type": "stream",
     "text": [
      "\u001b[33mWARNING: Running pip as the 'root' user can result in broken permissions and conflicting behaviour with the system package manager. It is recommended to use a virtual environment instead: https://pip.pypa.io/warnings/venv\u001b[0m\u001b[33m\r\n",
      "\u001b[0m"
     ]
    }
   ],
   "source": [
    "# install a ngrok python package and a version of flask that works with it in \n",
    "# colab\n",
    "!pip -q install flask-ngrok\n",
    "# !pip -q install flask-restful>=0.3.9\n",
    "# !pip -q install flask==0.12.2\n",
    "# !pip -q install flask_restful\n",
    "# !pip -q install Flask==2.0.2\n",
    "# !pip -q install flask-restful==0.3.9"
   ]
  },
  {
   "cell_type": "code",
   "execution_count": 8,
   "metadata": {},
   "outputs": [],
   "source": [
    "import findspark\n",
    "findspark.init() \n",
    "from pyspark.sql import *\n",
    "from pyspark.sql.functions import *\n",
    "from pyspark import SparkContext, SparkConf, SparkFiles\n",
    "from pyspark.sql import SQLContext\n",
    "# from graphframes import *"
   ]
  },
  {
   "cell_type": "markdown",
   "metadata": {
    "id": "6dW0y91OVu5J"
   },
   "source": [
    "# Run the app"
   ]
  },
  {
   "cell_type": "code",
   "execution_count": 9,
   "metadata": {
    "scrolled": true
   },
   "outputs": [],
   "source": [
    "bucket_name = '201640042_project' \n",
    "full_path = f\"gs://{bucket_name}/\"\n",
    "project_id = 'inforetassignment3'\n",
    "\n",
    "# !gsutil -u 'inforetassignment3' cp -r \"gs://201640042_project/full_lemmatized_body_index\" \".\"\n",
    "# !gsutil -u 'inforetassignment3' cp -r \"gs://201640042_project/train_stemmed_title_index\" \".\"\n",
    "# !gsutil -u 'inforetassignment3' cp -r \"gs://201640042_project/train_stemmed_anchor_index\" \".\"\n",
    "# !gsutil -u 'inforetassignment3' cp -r \"gs://201640042_project/pageviews-202108-user.pkl\" \".\"\n",
    "# !gsutil -u 'inforetassignment3' cp -r \"gs://201640042_project/pagerank_org.pkl\" \".\""
   ]
  },
  {
   "cell_type": "code",
   "execution_count": 10,
   "metadata": {},
   "outputs": [],
   "source": [
    "sc.addFile(\"/home/dataproc/search_frontend.py\")\n",
    "sys.path.insert(0,SparkFiles.getRootDirectory())\n",
    "# sc.addFile(\"/home/dataproc/search_frontend_old.py\")\n",
    "# sys.path.insert(0,SparkFiles.getRootDirectory())\n",
    "sc.addFile(\"/home/dataproc/inverted_index_gcp.py\")\n",
    "sys.path.insert(0,SparkFiles.getRootDirectory())"
   ]
  },
  {
   "cell_type": "code",
   "execution_count": 11,
   "metadata": {
    "executionInfo": {
     "elapsed": 405,
     "status": "ok",
     "timestamp": 1641286042384,
     "user": {
      "displayName": "Sise.ir Sise.ir",
      "photoUrl": "https://lh3.googleusercontent.com/a/default-user=s64",
      "userId": "17225177656144426835"
     },
     "user_tz": -120
    },
    "id": "7opNkV6uRHIv"
   },
   "outputs": [
    {
     "name": "stderr",
     "output_type": "stream",
     "text": [
      "[nltk_data] Downloading package stopwords to /root/nltk_data...\n",
      "[nltk_data]   Package stopwords is already up-to-date!\n",
      "[nltk_data] Downloading package wordnet to /root/nltk_data...\n",
      "[nltk_data]   Package wordnet is already up-to-date!\n",
      "[nltk_data] Downloading package omw-1.4 to /root/nltk_data...\n",
      "[nltk_data]   Package omw-1.4 is already up-to-date!\n"
     ]
    }
   ],
   "source": [
    "# you need to upload your implementation of search_app.py\n",
    "import search_frontend as se"
   ]
  },
  {
   "cell_type": "code",
   "execution_count": 12,
   "metadata": {
    "id": "oTGXXYEXV5l8"
   },
   "outputs": [],
   "source": [
    "# uncomment the code below and execute to reload the module when you make \n",
    "# changes to search_frontend.py (after you upload again).\n",
    "# import importlib\n",
    "# importlib.reload(se)\n",
    "# se.stemmer"
   ]
  },
  {
   "cell_type": "code",
   "execution_count": null,
   "metadata": {
    "colab": {
     "base_uri": "https://localhost:8080/"
    },
    "executionInfo": {
     "elapsed": 327924,
     "status": "ok",
     "timestamp": 1641286377847,
     "user": {
      "displayName": "Sise.ir Sise.ir",
      "photoUrl": "https://lh3.googleusercontent.com/a/default-user=s64",
      "userId": "17225177656144426835"
     },
     "user_tz": -120
    },
    "id": "J5n9u9rFP_wD",
    "outputId": "1fa290ab-72a6-4262-cb71-9316490b3c69"
   },
   "outputs": [
    {
     "name": "stdout",
     "output_type": "stream",
     "text": [
      " * Serving Flask app 'search_frontend' (lazy loading)\n",
      " * Environment: production\n",
      "\u001b[31m   WARNING: This is a development server. Do not use it in a production deployment.\u001b[0m\n",
      "\u001b[2m   Use a production WSGI server instead.\u001b[0m\n",
      " * Debug mode: off\n"
     ]
    },
    {
     "name": "stderr",
     "output_type": "stream",
     "text": [
      "WARNING: This is a development server. Do not use it in a production deployment. Use a production WSGI server instead.\n",
      " * Running on http://127.0.0.1:5000\n",
      "Press CTRL+C to quit\n"
     ]
    },
    {
     "name": "stdout",
     "output_type": "stream",
     "text": [
      " * Running on http://5d63-34-122-241-53.ngrok.io\n",
      " * Traffic stats available on http://127.0.0.1:4040\n"
     ]
    },
    {
     "name": "stderr",
     "output_type": "stream",
     "text": [
      "127.0.0.1 - - [10/Jan/2023 23:13:41] \"POST /get_pagerank HTTP/1.1\" 200 -\n",
      "127.0.0.1 - - [10/Jan/2023 23:13:59] \"GET /search?query=best+marvel+movie HTTP/1.1\" 200 -\n",
      "127.0.0.1 - - [10/Jan/2023 23:14:22] \"GET /search?query=How+do+kids+come+to+world%3F HTTP/1.1\" 200 -\n",
      "127.0.0.1 - - [10/Jan/2023 23:14:26] \"GET /search?query=Information+retrieval HTTP/1.1\" 200 -\n",
      "127.0.0.1 - - [10/Jan/2023 23:14:26] \"GET /search?query=LinkedIn HTTP/1.1\" 200 -\n",
      "127.0.0.1 - - [10/Jan/2023 23:14:33] \"GET /search?query=How+to+make+coffee%3F HTTP/1.1\" 200 -\n",
      "127.0.0.1 - - [10/Jan/2023 23:14:33] \"GET /search?query=Ritalin HTTP/1.1\" 200 -\n",
      "127.0.0.1 - - [10/Jan/2023 23:14:49] \"GET /search?query=How+to+make+wine+at+home%3F HTTP/1.1\" 200 -\n",
      "127.0.0.1 - - [10/Jan/2023 23:15:22] \"GET /search?query=Most+expensive+city+in+the+world HTTP/1.1\" 200 -\n",
      "127.0.0.1 - - [10/Jan/2023 23:15:26] \"GET /search?query=India HTTP/1.1\" 200 -\n",
      "127.0.0.1 - - [10/Jan/2023 23:15:35] \"GET /search?query=how+to+make+money+fast%3F HTTP/1.1\" 200 -\n",
      "127.0.0.1 - - [10/Jan/2023 23:15:36] \"GET /search?query=Netflix HTTP/1.1\" 200 -\n",
      "127.0.0.1 - - [10/Jan/2023 23:15:39] \"GET /search?query=Apple+computer HTTP/1.1\" 200 -\n",
      "127.0.0.1 - - [10/Jan/2023 23:15:39] \"GET /search?query=The+Simpsons HTTP/1.1\" 200 -\n",
      "127.0.0.1 - - [10/Jan/2023 23:16:02] \"GET /search?query=World+cup HTTP/1.1\" 200 -\n",
      "127.0.0.1 - - [10/Jan/2023 23:16:04] \"GET /search?query=How+to+lose+weight%3F HTTP/1.1\" 200 -\n",
      "127.0.0.1 - - [10/Jan/2023 23:16:05] \"GET /search?query=Java HTTP/1.1\" 200 -\n",
      "127.0.0.1 - - [10/Jan/2023 23:16:11] \"GET /search?query=Air+Jordan HTTP/1.1\" 200 -\n",
      "127.0.0.1 - - [10/Jan/2023 23:16:14] \"GET /search?query=how+to+deal+with+depression%3F HTTP/1.1\" 200 -\n",
      "127.0.0.1 - - [10/Jan/2023 23:16:25] \"GET /search?query=How+do+you+make+gold HTTP/1.1\" 200 -\n",
      "127.0.0.1 - - [10/Jan/2023 23:16:25] \"GET /search?query=Marijuana HTTP/1.1\" 200 -\n",
      "127.0.0.1 - - [10/Jan/2023 23:16:31] \"GET /search?query=How+to+make+hummus HTTP/1.1\" 200 -\n",
      "127.0.0.1 - - [10/Jan/2023 23:16:34] \"GET /search?query=Winter HTTP/1.1\" 200 -\n",
      "127.0.0.1 - - [10/Jan/2023 23:16:35] \"GET /search?query=Rick+and+Morty HTTP/1.1\" 200 -\n",
      "127.0.0.1 - - [10/Jan/2023 23:16:42] \"GET /search?query=Natural+Language+processing HTTP/1.1\" 200 -\n",
      "127.0.0.1 - - [10/Jan/2023 23:17:06] \"GET /search?query=World+Cup+2022 HTTP/1.1\" 200 -\n",
      "127.0.0.1 - - [10/Jan/2023 23:17:07] \"GET /search?query=Dolly+the+sheep HTTP/1.1\" 200 -\n",
      "127.0.0.1 - - [10/Jan/2023 23:17:07] \"GET /search?query=Cigarettes HTTP/1.1\" 200 -\n",
      "127.0.0.1 - - [10/Jan/2023 23:17:31] \"GET /search?query=What+is+the+best+place+to+live+in%3F HTTP/1.1\" 200 -\n",
      "127.0.0.1 - - [10/Jan/2023 23:17:32] \"GET /search?query=Elon+musk HTTP/1.1\" 200 -\n",
      "127.0.0.1 - - [10/Jan/2023 23:17:33] \"GET /search?query=How+do+you+breed+flowers%3F HTTP/1.1\" 200 -\n"
     ]
    }
   ],
   "source": [
    "from flask_ngrok import run_with_ngrok\n",
    "run_with_ngrok(se.app) \n",
    "se.app.run()"
   ]
  },
  {
   "cell_type": "markdown",
   "metadata": {
    "id": "Na0MC_1nzDbi"
   },
   "source": [
    "# Testing your app\n",
    "\n",
    "Once your app is running you can query it. You can simply do that by navigating to the URL that ngrok gave you above or through code in a different python session. For example, once the frontend app is running, you can navigate to:\n",
    "http://YOUR_SERVER_DOMAIN/search?query=hello+world where YOUR_SERVER_DOMAIN is something like XXXX-XX-XX-XX-XX.ngrok.io, which is printed above in Colab or that is your external IP on GCP.\n",
    "\n",
    "The code below shows how to issue a query from python. This is also how our testing code will issue queries to your search engine, so make sure to test your search engine this way after you deploy it to GCP and before submission. Command line instructions for deploying your search engine to GCP are available at `run_frontend_in_gcp.sh`. Note that we will not only issue training queries to your search engine, but also test queries, i.e. queries that you've never seen before."
   ]
  },
  {
   "cell_type": "code",
   "execution_count": 14,
   "metadata": {
    "id": "EM5ePrRHojbG"
   },
   "outputs": [],
   "source": [
    "import json\n",
    "with open('/home/dataproc/queries_train.json', 'rt') as f:\n",
    "    queries = json.load(f)"
   ]
  },
  {
   "cell_type": "code",
   "execution_count": 15,
   "metadata": {
    "id": "gWimZWCOy3Ei"
   },
   "outputs": [],
   "source": [
    "def average_precision(true_list, predicted_list, k=40):\n",
    "    true_set = frozenset(true_list)\n",
    "    predicted_list = predicted_list[:k]\n",
    "    precisions = []\n",
    "    for i,doc_id in enumerate(predicted_list):        \n",
    "        if doc_id in true_set:\n",
    "            prec = (len(precisions)+1) / (i+1)            \n",
    "            precisions.append(prec)\n",
    "    if len(precisions) == 0:\n",
    "        return 0.0\n",
    "    return round(sum(precisions)/len(precisions),3)"
   ]
  },
  {
   "cell_type": "code",
   "execution_count": null,
   "metadata": {
    "id": "dYmNTq9u0ChK"
   },
   "outputs": [],
   "source": [
    "import requests\n",
    "from time import time\n",
    "# url = 'http://35.232.59.3:8080'\n",
    "# place the domain you got from ngrok or GCP IP below. \n",
    "url = 'http://a53d-34-173-46-16.ngrok.io'\n",
    "\n",
    "qs_res = []\n",
    "for q, true_wids in queries.items():\n",
    "    duration, ap = None, None\n",
    "    t_start = time()\n",
    "    try:\n",
    "        res = requests.get(url + '/search', {'query': q}, timeout=35)\n",
    "        duration = time() - t_start\n",
    "        if res.status_code == 200:\n",
    "            pred_wids, _ = zip(*res.json())\n",
    "            ap = average_precision(true_wids, pred_wids)\n",
    "    except:\n",
    "        pass\n",
    "  \n",
    "    qs_res.append((q, duration, ap))"
   ]
  },
  {
   "cell_type": "code",
   "execution_count": null,
   "metadata": {},
   "outputs": [],
   "source": [
    "qs_res"
   ]
  },
  {
   "cell_type": "code",
   "execution_count": null,
   "metadata": {},
   "outputs": [],
   "source": []
  }
 ],
 "metadata": {
  "colab": {
   "authorship_tag": "ABX9TyO1f4To49YMW3UwP+tzluUe",
   "collapsed_sections": [],
   "mount_file_id": "18lALfDJw9C1S85uZ7WtBzcnNoAupWWd3",
   "name": "run_frontend_in_colab.ipynb",
   "provenance": [
    {
     "file_id": "18lALfDJw9C1S85uZ7WtBzcnNoAupWWd3",
     "timestamp": 1640012922716
    }
   ]
  },
  "kernelspec": {
   "display_name": "PySpark",
   "language": "python",
   "name": "pyspark"
  },
  "language_info": {
   "codemirror_mode": {
    "name": "ipython",
    "version": 3
   },
   "file_extension": ".py",
   "mimetype": "text/x-python",
   "name": "python",
   "nbconvert_exporter": "python",
   "pygments_lexer": "ipython3",
   "version": "3.8.15"
  }
 },
 "nbformat": 4,
 "nbformat_minor": 1
}
